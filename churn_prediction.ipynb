{
 "cells": [
  {
   "cell_type": "markdown",
   "metadata": {},
   "source": [
    "Please download dataset from here...[Download]('https://www.kaggle.com/sakshigoyal7/credit-card-customers')"
   ]
  },
  {
   "cell_type": "code",
   "execution_count": null,
   "metadata": {},
   "outputs": [],
   "source": [
    "### "
   ]
  }
 ],
 "metadata": {
  "interpreter": {
   "hash": "69c92f528217097d79fd1f301b4bae2ff6ffd2896e6a68bbf2f826cedbbf12c0"
  },
  "kernelspec": {
   "display_name": "Python 3.9.5 64-bit ('django': conda)",
   "language": "python",
   "name": "python3"
  },
  "language_info": {
   "name": "python",
   "version": "3.9.5"
  },
  "orig_nbformat": 4
 },
 "nbformat": 4,
 "nbformat_minor": 2
}
